{
 "cells": [
  {
   "cell_type": "code",
   "execution_count": null,
   "id": "75b8f6c9",
   "metadata": {},
   "outputs": [],
   "source": [
    "# ANS 1 :\n",
    "\n",
    "''' \n",
    "    API is application programming interface which connects or eastablihses communication between \n",
    "    different applications. \n",
    "    \n",
    "    A USER ACCOUNT OF AXIX BANK AND THE DATABASE OF AXIS BANK ARE CONNECTED THROUGHT A API SYSTEM\n",
    "    WHICH ALLOWS USER TO FETCH BANK BANK DETAILS FROM DATABASE THROUGH API.\n",
    "    \n",
    "'''"
   ]
  },
  {
   "cell_type": "code",
   "execution_count": null,
   "id": "6cb269ad",
   "metadata": {},
   "outputs": [],
   "source": [
    "# ANS 2 :\n",
    "\n",
    "'''  \n",
    "ADVANTAGES \n",
    "\n",
    "1.) API ALLOWS TO CONNECT 2 DIFFERENT APPLICATION INTERFACES NO BARRIER OF PROTOCOLS RULES.\n",
    "2.) FROM ABOVE, IT PROVIDES CODE REUSABLITY AS SAME COMMON CODE OF 1 APPLICATION CAN BE SHARED ANYWHERE.\n",
    "3.) BETTER USER EXPERIENCE AS A USER CAN CREATE HIS OWN API FOR CONVINIENCE AND INTEGRATE WITH EXSISTING UI.\n",
    "4.) FLEXIBLE AS API PROVIDES WIDE OPTIONS FOR DIFFERENT PROGRAMMING LANGUAGES DUE TO FLEXIBLE COMMUNICATION.\n",
    "\n",
    "\n",
    "DISADVANTAGES \n",
    "\n",
    "1.) SOME APIs MIGHT VULNERABLE TO SECURITIES, DEVELOPER OFTEN FACE DATA BREACH ISUES IN API.\n",
    "2.) API NEEDS HIGH MAINTAINENCE AND NEEDS ALOT OF EFFORTS ND TIME TO INTEGRATE API SYSTEM, COMPLEX PROCESS.\n",
    "3.) DEPENDENCY FOR CREATING THIRD-PARTY SOFTWARES OR APPLICATION WHICH NOT MAINTAINED BY DEVELOPER OF API.\n",
    "4.) REQUIRES GOVERNANCE AND MANAGEMENT FOR INNOCENT USE OF API. \n",
    "\n",
    "'''"
   ]
  },
  {
   "cell_type": "code",
   "execution_count": null,
   "id": "d9fad579",
   "metadata": {},
   "outputs": [],
   "source": [
    "# ANS 3 :\n",
    "\n",
    "''' \n",
    "WEB API is a subset concept of API , it is used for web applications and softwares.\n",
    "\n",
    "WEB API \n",
    "1.) IT IS MAINLY USED FOR WEB BASED APPLICATIONS LIKE ONLINE PAYMENTS, SEARCH.\n",
    "2.) IT USES HTTP, SMTP PROTOCOLS IN WEB APPLICATIONS AND INTERFACES. \n",
    "3.) ALL TYPES OF API CAN'T FALL UNDER A HEAD WEB API.\n",
    "\n",
    "API\n",
    "1.) IT IS A SUPER SET OF WEB API, API IS USED BETWEEN PROGRAMMING OR SOFTWARE APPLICATOINS. \n",
    "2.) IT USES TCP/IP PROTOCOL, IT USES HTTPS PROTOCOLS ALSO.\n",
    "3.) DIFFERENT TYPES OF WEB SERVICES ARE FALL UNDER MAIN HEAD API.'''"
   ]
  },
  {
   "cell_type": "code",
   "execution_count": null,
   "id": "952f3ddf",
   "metadata": {},
   "outputs": [],
   "source": [
    "# ANS 4 :\n",
    "\n",
    "''' \n",
    "REST is a Representaional transfer protocol which is flexible, scalable and very simple to implement for\n",
    "developers type of a Protocol, it uses predefined functions like GET(), PUT(), POST(), DELETE(). USES\n",
    "HTTP, TCP/IP, SMTP PROTOCOLS. IT IS A HEAVY PROTOCOL\n",
    "\n",
    "SOAP IS Simple Object Access Protocol which is light-weight, security proof, bit complex to implement for\n",
    "developers type of a protocol, It uses XMl protocol for storing instructions and function to implement.\n",
    "\n",
    "==========SOAP HAS SOME OUTCOMINGS IN IT DUE TO WHICH REST IS ADAPTABLE IN MOST CASES==========\n",
    "\n",
    "1.) IT IS NOT SCALABLE AS COMPARED TO REST.\n",
    "2.) REST IS SIMPLE TO IMPLEMENT, BUT SOAP IS COMPLEXED PROTOCOL FOR DEVELOPERS , BIT COMPLICATED.\n",
    "3.) IT USES OLD XML PROTOCOL DUE TO SOAP PROTOCOL IS SLOW COMPARED TO REST PROTOCOL.\n",
    "4.) SOAP API DOES NOT HAVE CATCH FEATURE, A USER UNABLES TO CATCH THE PREVIOUS REQUEST.\n",
    "\n",
    "''' "
   ]
  },
  {
   "cell_type": "code",
   "execution_count": null,
   "id": "f8ac9cba",
   "metadata": {},
   "outputs": [],
   "source": [
    "# ANS 5 :\n",
    "\n",
    "'''  \n",
    "REST API\n",
    "\n",
    "1.) REST BASED ON REPRESENTATIONAL TRANSFER PROTOCOL.\n",
    "2.) IT IS SIMPLE, SCALABLE, BEST SUITED FOR BULKY TRANSACTIONS.\n",
    "3.) IT USES HTTP, SMTP, TCP/IP PROTOCOLS.\n",
    "4.) NO SECURITY FEATURE PRESENT IN IT.\n",
    "5.) FASTER THAN SOAP API.\n",
    "6.) COMMON FUNCTIONS IN REST LIKE GET(), POST(), PUT(), DELETE().\n",
    "\n",
    "-----------------------------------------------------------------------------------------------------------\n",
    "\n",
    "SOAP API\n",
    "\n",
    "1.) SOAP BASED ON SIMPLE OBJECT ACCESS PROTOCOL.\n",
    "2.) IT IS COMPLICATED, NON-SCALABLE AND LIGHT-WEIGHT.\n",
    "3.) IT USES XML PROTOCOL.\n",
    "4.) PROVIDES SECURITY FEATURES DUE TO TRADITIONAL APPROACH.\n",
    "5.) SLOWER THAN REST API.\n",
    "6.) XML FORMAT AND INSTRUCTIONS.'''"
   ]
  }
 ],
 "metadata": {
  "kernelspec": {
   "display_name": "Python 3 (ipykernel)",
   "language": "python",
   "name": "python3"
  },
  "language_info": {
   "codemirror_mode": {
    "name": "ipython",
    "version": 3
   },
   "file_extension": ".py",
   "mimetype": "text/x-python",
   "name": "python",
   "nbconvert_exporter": "python",
   "pygments_lexer": "ipython3",
   "version": "3.11.3"
  }
 },
 "nbformat": 4,
 "nbformat_minor": 5
}
